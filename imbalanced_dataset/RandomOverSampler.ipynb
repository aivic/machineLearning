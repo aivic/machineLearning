{
 "cells": [
  {
   "cell_type": "markdown",
   "metadata": {},
   "source": [
    "# Objective - \n",
    "### To build a logistic regression model before and after handling an imbalanced dataset."
   ]
  },
  {
   "cell_type": "code",
   "execution_count": 1,
   "metadata": {},
   "outputs": [
    {
     "name": "stderr",
     "output_type": "stream",
     "text": [
      "D:\\Anaconda\\lib\\site-packages\\statsmodels\\compat\\pandas.py:56: FutureWarning: The pandas.core.datetools module is deprecated and will be removed in a future version. Please use the pandas.tseries module instead.\n",
      "  from pandas.core import datetools\n"
     ]
    }
   ],
   "source": [
    "import numpy as np\n",
    "import scipy as sp\n",
    "import pandas as pd\n",
    "import matplotlib.pyplot as plt\n",
    "%matplotlib inline\n",
    "import seaborn as sns\n",
    "import scipy as sp\n",
    "from sklearn.linear_model import LinearRegression\n",
    "from sklearn.model_selection import train_test_split\n",
    "import sklearn\n",
    "import statsmodels.api as sm\n",
    "import statsmodels.formula.api as smf\n",
    "from imblearn.over_sampling import RandomOverSampler"
   ]
  },
  {
   "cell_type": "markdown",
   "metadata": {},
   "source": [
    "### Pre-processing"
   ]
  },
  {
   "cell_type": "code",
   "execution_count": 61,
   "metadata": {},
   "outputs": [],
   "source": [
    "df = pd.read_csv('../datasets/adult.csv', sep=',', header=None)\n",
    "df.columns = ['age', 'workclass', 'fnlwgt', 'education', 'education-num', 'marital-status', 'occupation', 'relationship', \n",
    "              'race', 'sex', 'capital-gain', 'capital-loss', 'hours-per-week', 'native-country', 'income']"
   ]
  },
  {
   "cell_type": "code",
   "execution_count": 62,
   "metadata": {},
   "outputs": [
    {
     "data": {
      "text/plain": [
       "Index(['workclass', 'education', 'marital-status', 'occupation',\n",
       "       'relationship', 'race', 'sex', 'native-country'],\n",
       "      dtype='object')"
      ]
     },
     "execution_count": 62,
     "metadata": {},
     "output_type": "execute_result"
    }
   ],
   "source": [
    "# Selecting only categorical variables\n",
    "col_names = df.columns[df.dtypes == 'object']\n",
    "col_names = col_names[:len(col_names)-1] # removing target variable\n",
    "col_names"
   ]
  },
  {
   "cell_type": "code",
   "execution_count": 63,
   "metadata": {},
   "outputs": [],
   "source": [
    "# Replacing missing values (?) with NaN\n",
    "df.replace(\" ?\", np.nan, inplace=True)"
   ]
  },
  {
   "cell_type": "code",
   "execution_count": 64,
   "metadata": {},
   "outputs": [],
   "source": [
    "# Replacing NaN with the mode of the categorical data\n",
    "for i in range(len(col_names)):\n",
    "    df.loc[:,col_names[i]] = df.loc[:,col_names[i]].fillna(df.loc[:,col_names[i]].mode()[0])"
   ]
  },
  {
   "cell_type": "code",
   "execution_count": 74,
   "metadata": {
    "scrolled": false
   },
   "outputs": [],
   "source": [
    "# One hot encoding\n",
    "ndf = pd.DataFrame()\n",
    "for i in range(len(col_names)):\n",
    "    ndf = pd.concat([ndf, pd.get_dummies(df.loc[:,col_names[i]], prefix=col_names[i][0:4])], axis=1)"
   ]
  },
  {
   "cell_type": "code",
   "execution_count": 75,
   "metadata": {},
   "outputs": [],
   "source": [
    "# Making a final dataframe\n",
    "df = pd.concat([ndf, df.loc[:,['age', 'fnlwgt', 'education-num', 'capital-gain', \n",
    "                               'capital-loss', 'hours-per-week', 'income']]], axis=1)"
   ]
  },
  {
   "cell_type": "code",
   "execution_count": 105,
   "metadata": {},
   "outputs": [],
   "source": [
    "# Mapping binary classes to 0 and 1\n",
    "df['income'] = df['income'].apply(lambda x: 1 if x == \" >50K\" else 0)"
   ]
  },
  {
   "cell_type": "code",
   "execution_count": 106,
   "metadata": {},
   "outputs": [],
   "source": [
    "# Creating a copy (to be used later)\n",
    "df_temp = df.copy()"
   ]
  },
  {
   "cell_type": "markdown",
   "metadata": {},
   "source": [
    "### Doing Random Over Sampling"
   ]
  },
  {
   "cell_type": "code",
   "execution_count": 107,
   "metadata": {},
   "outputs": [],
   "source": [
    "ros = RandomOverSampler(random_state=42)\n",
    "\n",
    "X_resampled, y_resampled = ros.fit_sample(df.iloc[:,:105], df.iloc[:,105])"
   ]
  },
  {
   "cell_type": "markdown",
   "metadata": {},
   "source": [
    "### Building model on balanced data"
   ]
  },
  {
   "cell_type": "code",
   "execution_count": 108,
   "metadata": {},
   "outputs": [],
   "source": [
    "from sklearn.model_selection import train_test_split\n",
    "X_train, X_test, y_train, y_test = train_test_split(X_resampled, y_resampled, test_size = 0.30, random_state = 42)"
   ]
  },
  {
   "cell_type": "code",
   "execution_count": 109,
   "metadata": {},
   "outputs": [
    {
     "data": {
      "text/plain": [
       "LogisticRegression(C=1.0, class_weight=None, dual=False, fit_intercept=True,\n",
       "          intercept_scaling=1, max_iter=100, multi_class='ovr', n_jobs=1,\n",
       "          penalty='l2', random_state=None, solver='liblinear', tol=0.0001,\n",
       "          verbose=0, warm_start=False)"
      ]
     },
     "execution_count": 109,
     "metadata": {},
     "output_type": "execute_result"
    }
   ],
   "source": [
    "from  sklearn.linear_model  import LogisticRegression\n",
    "model = LogisticRegression()\n",
    "model.fit(X_train, y_train)"
   ]
  },
  {
   "cell_type": "code",
   "execution_count": 110,
   "metadata": {},
   "outputs": [],
   "source": [
    "train_acc = model.score(X_train, y_train)\n",
    "test_acc = model.score(X_test, y_test)"
   ]
  },
  {
   "cell_type": "code",
   "execution_count": 111,
   "metadata": {},
   "outputs": [],
   "source": [
    "from sklearn.metrics import classification_report\n",
    "train_rep = classification_report(y_train, model.predict(X_train)).split(\"\\n\")[5].split(\"     \")[1:]\n",
    "test_rep = classification_report(y_test, model.predict(X_test)).split(\"\\n\")[5].split(\"     \")[1:]"
   ]
  },
  {
   "cell_type": "code",
   "execution_count": 113,
   "metadata": {},
   "outputs": [],
   "source": [
    "from sklearn.metrics import roc_auc_score\n",
    "train_auc = roc_auc_score(y_train, model.predict(X_train))\n",
    "test_auc = roc_auc_score(y_test, model.predict(X_test))"
   ]
  },
  {
   "cell_type": "markdown",
   "metadata": {},
   "source": [
    "### Building model on non-sampled data"
   ]
  },
  {
   "cell_type": "code",
   "execution_count": 114,
   "metadata": {},
   "outputs": [
    {
     "data": {
      "text/plain": [
       "LogisticRegression(C=1.0, class_weight=None, dual=False, fit_intercept=True,\n",
       "          intercept_scaling=1, max_iter=100, multi_class='ovr', n_jobs=1,\n",
       "          penalty='l2', random_state=None, solver='liblinear', tol=0.0001,\n",
       "          verbose=0, warm_start=False)"
      ]
     },
     "execution_count": 114,
     "metadata": {},
     "output_type": "execute_result"
    }
   ],
   "source": [
    "X_train_ns, X_test_ns, y_train_ns, y_test_ns = train_test_split(df_temp.iloc[:,:105], \n",
    "                                                                df_temp.iloc[:,105], test_size = 0.30, random_state = 42)\n",
    "model_ns = LogisticRegression()\n",
    "model_ns.fit(X_train_ns, y_train_ns)"
   ]
  },
  {
   "cell_type": "code",
   "execution_count": 132,
   "metadata": {},
   "outputs": [],
   "source": [
    "train_acc_ns = model_ns.score(X_train_ns, y_train_ns)\n",
    "test_acc_ns = model_ns.score(X_test_ns, y_test_ns)"
   ]
  },
  {
   "cell_type": "code",
   "execution_count": 133,
   "metadata": {},
   "outputs": [],
   "source": [
    "train_rep_ns = classification_report(y_train_ns, model_ns.predict(X_train_ns)).split(\"\\n\")[5].split(\"     \")[1:]\n",
    "test_rep_ns = classification_report(y_test_ns, model_ns.predict(X_test_ns)).split(\"\\n\")[5].split(\"     \")[1:]"
   ]
  },
  {
   "cell_type": "code",
   "execution_count": 134,
   "metadata": {},
   "outputs": [],
   "source": [
    "train_auc_ns = roc_auc_score(y_train_ns, model_ns.predict(X_train_ns))\n",
    "test_auc_ns = roc_auc_score(y_test_ns, model_ns.predict(X_test_ns))"
   ]
  },
  {
   "cell_type": "code",
   "execution_count": 135,
   "metadata": {},
   "outputs": [],
   "source": [
    "# Creating a dataframe to store all metrics\n",
    "res = pd.DataFrame(0, index=['accuracy', 'precision', 'recall', 'f1-score', 'support', 'AUC'], \n",
    "                 columns=['Sampled_Train', 'Sampled_Test', 'Non_Sampled_Train', 'Non_Sampled_Test'])"
   ]
  },
  {
   "cell_type": "code",
   "execution_count": 137,
   "metadata": {},
   "outputs": [
    {
     "data": {
      "text/html": [
       "<div>\n",
       "<style scoped>\n",
       "    .dataframe tbody tr th:only-of-type {\n",
       "        vertical-align: middle;\n",
       "    }\n",
       "\n",
       "    .dataframe tbody tr th {\n",
       "        vertical-align: top;\n",
       "    }\n",
       "\n",
       "    .dataframe thead th {\n",
       "        text-align: right;\n",
       "    }\n",
       "</style>\n",
       "<table border=\"1\" class=\"dataframe\">\n",
       "  <thead>\n",
       "    <tr style=\"text-align: right;\">\n",
       "      <th></th>\n",
       "      <th>Sampled_Train</th>\n",
       "      <th>Sampled_Test</th>\n",
       "      <th>Non_Sampled_Train</th>\n",
       "      <th>Non_Sampled_Test</th>\n",
       "    </tr>\n",
       "  </thead>\n",
       "  <tbody>\n",
       "    <tr>\n",
       "      <th>accuracy</th>\n",
       "      <td>0.821775</td>\n",
       "      <td>0.818972</td>\n",
       "      <td>0.795674</td>\n",
       "      <td>0.802129</td>\n",
       "    </tr>\n",
       "    <tr>\n",
       "      <th>precision</th>\n",
       "      <td>0.82</td>\n",
       "      <td>0.82</td>\n",
       "      <td>0.78</td>\n",
       "      <td>0.79</td>\n",
       "    </tr>\n",
       "    <tr>\n",
       "      <th>recall</th>\n",
       "      <td>0.82</td>\n",
       "      <td>0.82</td>\n",
       "      <td>0.80</td>\n",
       "      <td>0.80</td>\n",
       "    </tr>\n",
       "    <tr>\n",
       "      <th>f1-score</th>\n",
       "      <td>0.82</td>\n",
       "      <td>0.82</td>\n",
       "      <td>0.76</td>\n",
       "      <td>0.76</td>\n",
       "    </tr>\n",
       "    <tr>\n",
       "      <th>support</th>\n",
       "      <td>34608</td>\n",
       "      <td>14832</td>\n",
       "      <td>22792</td>\n",
       "      <td>9769</td>\n",
       "    </tr>\n",
       "    <tr>\n",
       "      <th>AUC</th>\n",
       "      <td>0.821816</td>\n",
       "      <td>0.818857</td>\n",
       "      <td>0.613639</td>\n",
       "      <td>0.616448</td>\n",
       "    </tr>\n",
       "  </tbody>\n",
       "</table>\n",
       "</div>"
      ],
      "text/plain": [
       "          Sampled_Train Sampled_Test Non_Sampled_Train Non_Sampled_Test\n",
       "accuracy       0.821775     0.818972          0.795674         0.802129\n",
       "precision          0.82         0.82              0.78             0.79\n",
       "recall             0.82         0.82              0.80             0.80\n",
       "f1-score           0.82         0.82              0.76             0.76\n",
       "support           34608        14832             22792             9769\n",
       "AUC            0.821816     0.818857          0.613639         0.616448"
      ]
     },
     "execution_count": 137,
     "metadata": {},
     "output_type": "execute_result"
    }
   ],
   "source": [
    "res.Sampled_Train[0] = train_acc\n",
    "res.Sampled_Train[1:5] = train_rep\n",
    "res.Sampled_Train[5] = train_auc\n",
    "res.Sampled_Test[0] = test_acc\n",
    "res.Sampled_Test[1:5] = test_rep\n",
    "res.Sampled_Test[5] = test_auc\n",
    "\n",
    "res.Non_Sampled_Train[0] = train_acc_ns\n",
    "res.Non_Sampled_Train[1:5] = train_rep_ns\n",
    "res.Non_Sampled_Train[5] = train_auc_ns\n",
    "res.Non_Sampled_Test[0] = test_acc_ns\n",
    "res.Non_Sampled_Test[1:5] = test_rep_ns\n",
    "res.Non_Sampled_Test[5] = test_auc_ns\n",
    "\n",
    "res"
   ]
  },
  {
   "cell_type": "code",
   "execution_count": 145,
   "metadata": {},
   "outputs": [
    {
     "data": {
      "image/png": "[encoded data removed]",
      "text/plain": [
       "<matplotlib.figure.Figure at 0x17b134a5908>"
      ]
     },
     "metadata": {},
     "output_type": "display_data"
    }
   ],
   "source": [
    "from sklearn.metrics import roc_curve\n",
    "fpr, tpr, thres = roc_curve(y_train, model.predict_proba(X_train)[:,1])\n",
    "fpr_ns, tpr_ns, thres_ns = roc_curve(y_train_ns, model_ns.predict_proba(X_train_ns)[:,1])\n",
    "plt.plot(fpr, tpr, 'b', label = 'Sampled = %0.2f' % train_auc)\n",
    "plt.plot(fpr_ns, tpr_ns, 'g', label = 'Non-Sampled = %0.2f' % train_auc_ns)\n",
    "plt.plot([0, 1], [0, 1],'r--')\n",
    "plt.xlim([0, 1])\n",
    "plt.ylim([0, 1])\n",
    "plt.legend(loc = 'lower right')\n",
    "plt.ylabel('True Positive Rate')\n",
    "plt.xlabel('False Positive Rate')\n",
    "plt.title('ROC curve of sampled vs non-sampled model using train data')\n",
    "plt.show()"
   ]
  }
 ],
 "metadata": {
  "kernelspec": {
   "display_name": "Python 3",
   "language": "python",
   "name": "python3"
  },
  "language_info": {
   "codemirror_mode": {
    "name": "ipython",
    "version": 3
   },
   "file_extension": ".py",
   "mimetype": "text/x-python",
   "name": "python",
   "nbconvert_exporter": "python",
   "pygments_lexer": "ipython3",
   "version": "3.6.4"
  }
 },
 "nbformat": 4,
 "nbformat_minor": 2
}
