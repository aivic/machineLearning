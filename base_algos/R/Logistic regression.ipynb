{
 "cells": [
  {
   "cell_type": "code",
   "execution_count": 1,
   "metadata": {},
   "outputs": [],
   "source": [
    "library(ggplot2)"
   ]
  },
  {
   "cell_type": "markdown",
   "metadata": {},
   "source": [
    "# Binary Logistic Regression"
   ]
  },
  {
   "cell_type": "code",
   "execution_count": 2,
   "metadata": {},
   "outputs": [
    {
     "data": {
      "text/html": [
       "<table>\n",
       "<thead><tr><th scope=col>oxygen</th><th scope=col>survive</th></tr></thead>\n",
       "<tbody>\n",
       "\t<tr><td>10</td><td>0 </td></tr>\n",
       "\t<tr><td> 5</td><td>0 </td></tr>\n",
       "\t<tr><td>75</td><td>1 </td></tr>\n",
       "\t<tr><td>14</td><td>0 </td></tr>\n",
       "\t<tr><td> 8</td><td>0 </td></tr>\n",
       "\t<tr><td>50</td><td>1 </td></tr>\n",
       "</tbody>\n",
       "</table>\n"
      ],
      "text/latex": [
       "\\begin{tabular}{r|ll}\n",
       " oxygen & survive\\\\\n",
       "\\hline\n",
       "\t 10 & 0 \\\\\n",
       "\t  5 & 0 \\\\\n",
       "\t 75 & 1 \\\\\n",
       "\t 14 & 0 \\\\\n",
       "\t  8 & 0 \\\\\n",
       "\t 50 & 1 \\\\\n",
       "\\end{tabular}\n"
      ],
      "text/markdown": [
       "\n",
       "oxygen | survive | \n",
       "|---|---|---|---|---|---|\n",
       "| 10 | 0  | \n",
       "|  5 | 0  | \n",
       "| 75 | 1  | \n",
       "| 14 | 0  | \n",
       "|  8 | 0  | \n",
       "| 50 | 1  | \n",
       "\n",
       "\n"
      ],
      "text/plain": [
       "  oxygen survive\n",
       "1 10     0      \n",
       "2  5     0      \n",
       "3 75     1      \n",
       "4 14     0      \n",
       "5  8     0      \n",
       "6 50     1      "
      ]
     },
     "metadata": {},
     "output_type": "display_data"
    }
   ],
   "source": [
    "# Loading data\n",
    "log_reg_bin <- read.csv(\"../../datasets/log_reg_bin.csv\")\n",
    "head(log_reg_bin)"
   ]
  },
  {
   "cell_type": "code",
   "execution_count": 3,
   "metadata": {},
   "outputs": [],
   "source": [
    "# Making output variable as factors <categorial>\n",
    "log_reg_bin$survive <- as.factor(log_reg_bin$survive)"
   ]
  },
  {
   "cell_type": "code",
   "execution_count": 4,
   "metadata": {},
   "outputs": [],
   "source": [
    "# Making train and test data\n",
    "set.seed(42)\n",
    "ind <- sample(x = nrow(log_reg_bin), size = floor(0.75 * nrow(log_reg_bin)))\n",
    "\n",
    "log_bin_train <- log_reg_bin[ind,]\n",
    "log_bin_test <- log_reg_bin[-ind,]"
   ]
  },
  {
   "cell_type": "code",
   "execution_count": 5,
   "metadata": {},
   "outputs": [
    {
     "name": "stderr",
     "output_type": "stream",
     "text": [
      "Warning message:\n",
      "“glm.fit: fitted probabilities numerically 0 or 1 occurred”"
     ]
    },
    {
     "data": {
      "text/plain": [
       "\n",
       "Call:  glm(formula = survive ~ oxygen, family = binomial(link = \"logit\"), \n",
       "    data = log_bin_train)\n",
       "\n",
       "Coefficients:\n",
       "(Intercept)       oxygen  \n",
       "    -92.173        2.303  \n",
       "\n",
       "Degrees of Freedom: 10 Total (i.e. Null);  9 Residual\n",
       "Null Deviance:\t    15.16 \n",
       "Residual Deviance: 3.97e-10 \tAIC: 4"
      ]
     },
     "metadata": {},
     "output_type": "display_data"
    }
   ],
   "source": [
    "# Building logistic regression model\n",
    "log_bin_model <- glm(formula = survive~oxygen,\n",
    "                     data = log_bin_train,\n",
    "                     family = binomial(link = \"logit\"))\n",
    "log_bin_model\n",
    "# From the model we can state that for a unit change in \"oxygen\", log odds change by 230.3%"
   ]
  },
  {
   "cell_type": "code",
   "execution_count": 6,
   "metadata": {},
   "outputs": [
    {
     "name": "stderr",
     "output_type": "stream",
     "text": [
      "Warning message:\n",
      "“glm.fit: fitted probabilities numerically 0 or 1 occurred”"
     ]
    },
    {
     "data": {},
     "metadata": {},
     "output_type": "display_data"
    },
    {
     "data": {
      "image/png": "[encoded data removed]",
      "text/plain": [
       "plot without title"
      ]
     },
     "metadata": {},
     "output_type": "display_data"
    }
   ],
   "source": [
    "# Visualizing the model\n",
    "xval = log_bin_train$oxygen\n",
    "yval = predict(log_bin_model,data.frame(oxygen = log_bin_train$oxygen),type = \"response\")\n",
    "options(repr.plot.width=4, repr.plot.height=3)\n",
    "ggplot() +\n",
    "  stat_smooth(method = \"glm\", method.args = list(family = \"binomial\"), \n",
    "              aes(xval, yval, col =\"Probability model\")) +\n",
    "          geom_point(aes(log_bin_train$oxygen, \n",
    "                         ifelse(as.numeric(log_bin_train$survive) == 2, 1,0), \n",
    "                         col = \"Original data\")) +\n",
    "          scale_colour_manual(\"\", \n",
    "                              breaks = c(\"Probability model\", \"Original data\"), \n",
    "                              values = c(\"red\", \"green\")) +  \n",
    "          ylab(\"p(oxygen)\") + xlab(\"oxygen\") + ggtitle(\"Binomial Logistic Regression\") +\n",
    "          theme_bw()"
   ]
  },
  {
   "cell_type": "code",
   "execution_count": 7,
   "metadata": {},
   "outputs": [
    {
     "data": {
      "text/html": [
       "<table>\n",
       "<thead><tr><th scope=col>pred_prob</th><th scope=col>pred_surv</th></tr></thead>\n",
       "<tbody>\n",
       "\t<tr><td>2.220446e-16</td><td>0           </td></tr>\n",
       "\t<tr><td>9.532594e-03</td><td>0           </td></tr>\n",
       "\t<tr><td>9.999990e-01</td><td>1           </td></tr>\n",
       "\t<tr><td>1.000000e+00</td><td>1           </td></tr>\n",
       "</tbody>\n",
       "</table>\n"
      ],
      "text/latex": [
       "\\begin{tabular}{r|ll}\n",
       " pred\\_prob & pred\\_surv\\\\\n",
       "\\hline\n",
       "\t 2.220446e-16 & 0           \\\\\n",
       "\t 9.532594e-03 & 0           \\\\\n",
       "\t 9.999990e-01 & 1           \\\\\n",
       "\t 1.000000e+00 & 1           \\\\\n",
       "\\end{tabular}\n"
      ],
      "text/markdown": [
       "\n",
       "pred_prob | pred_surv | \n",
       "|---|---|---|---|\n",
       "| 2.220446e-16 | 0            | \n",
       "| 9.532594e-03 | 0            | \n",
       "| 9.999990e-01 | 1            | \n",
       "| 1.000000e+00 | 1            | \n",
       "\n",
       "\n"
      ],
      "text/plain": [
       "  pred_prob    pred_surv\n",
       "1 2.220446e-16 0        \n",
       "2 9.532594e-03 0        \n",
       "3 9.999990e-01 1        \n",
       "4 1.000000e+00 1        "
      ]
     },
     "metadata": {},
     "output_type": "display_data"
    }
   ],
   "source": [
    "## Predicting if a person survive based on our built model and test data\n",
    "\n",
    "# Determining prob. for each oxygen value\n",
    "log_pred <- data.frame(predict(log_bin_model, data.frame(oxygen = log_bin_test$oxygen), type = \"response\"))\n",
    "colnames(log_pred) <- \"pred_prob\"\n",
    "\n",
    "# Assigning threshold probability - based on domain knowledge\n",
    "thr_prob <- 0.5\n",
    "\n",
    "# Categorizing survival based on predicted probabilities\n",
    "log_pred$pred_surv <- ifelse(log_pred$pred_prob <=0.5, 0, 1)\n",
    "log_pred"
   ]
  },
  {
   "cell_type": "code",
   "execution_count": 8,
   "metadata": {},
   "outputs": [
    {
     "data": {
      "text/html": [
       "<table>\n",
       "<thead><tr><th scope=col>Oxygen</th><th scope=col>Actual Survival</th><th scope=col>Predicted Survival</th></tr></thead>\n",
       "<tbody>\n",
       "\t<tr><td>10</td><td>0 </td><td>0 </td></tr>\n",
       "\t<tr><td>38</td><td>0 </td><td>0 </td></tr>\n",
       "\t<tr><td>46</td><td>0 </td><td>1 </td></tr>\n",
       "\t<tr><td>66</td><td>1 </td><td>1 </td></tr>\n",
       "</tbody>\n",
       "</table>\n"
      ],
      "text/latex": [
       "\\begin{tabular}{r|lll}\n",
       " Oxygen & Actual Survival & Predicted Survival\\\\\n",
       "\\hline\n",
       "\t 10 & 0  & 0 \\\\\n",
       "\t 38 & 0  & 0 \\\\\n",
       "\t 46 & 0  & 1 \\\\\n",
       "\t 66 & 1  & 1 \\\\\n",
       "\\end{tabular}\n"
      ],
      "text/markdown": [
       "\n",
       "Oxygen | Actual Survival | Predicted Survival | \n",
       "|---|---|---|---|\n",
       "| 10 | 0  | 0  | \n",
       "| 38 | 0  | 0  | \n",
       "| 46 | 0  | 1  | \n",
       "| 66 | 1  | 1  | \n",
       "\n",
       "\n"
      ],
      "text/plain": [
       "  Oxygen Actual Survival Predicted Survival\n",
       "1 10     0               0                 \n",
       "2 38     0               0                 \n",
       "3 46     0               1                 \n",
       "4 66     1               1                 "
      ]
     },
     "metadata": {},
     "output_type": "display_data"
    }
   ],
   "source": [
    "# Comparing actual and predicted values\n",
    "cmp_df <- data.frame(log_bin_test$oxygen, log_bin_test$survive, log_pred$pred_surv)\n",
    "names(cmp_df) <- c(\"Oxygen\", \"Actual Survival\", \"Predicted Survival\")\n",
    "cmp_df\n",
    "actual <- cmp_df$`Actual Survival`\n",
    "predicted <- cmp_df$`Predicted Survival`"
   ]
  },
  {
   "cell_type": "code",
   "execution_count": 9,
   "metadata": {},
   "outputs": [
    {
     "data": {
      "text/html": [
       "<table>\n",
       "<thead><tr><th></th><th scope=col>0</th><th scope=col>1</th><th scope=col>Sum</th></tr></thead>\n",
       "<tbody>\n",
       "\t<tr><th scope=row>0</th><td>2</td><td>1</td><td>3</td></tr>\n",
       "\t<tr><th scope=row>1</th><td>0</td><td>1</td><td>1</td></tr>\n",
       "\t<tr><th scope=row>Sum</th><td>2</td><td>2</td><td>4</td></tr>\n",
       "</tbody>\n",
       "</table>\n"
      ],
      "text/latex": [
       "\\begin{tabular}{r|lll}\n",
       "  & 0 & 1 & Sum\\\\\n",
       "\\hline\n",
       "\t0 & 2 & 1 & 3\\\\\n",
       "\t1 & 0 & 1 & 1\\\\\n",
       "\tSum & 2 & 2 & 4\\\\\n",
       "\\end{tabular}\n"
      ],
      "text/markdown": [
       "\n",
       "| <!--/--> | 0 | 1 | Sum | \n",
       "|---|---|---|\n",
       "| 0 | 2 | 1 | 3 | \n",
       "| 1 | 0 | 1 | 1 | \n",
       "| Sum | 2 | 2 | 4 | \n",
       "\n",
       "\n"
      ],
      "text/plain": [
       "      predicted\n",
       "actual 0 1 Sum\n",
       "   0   2 1 3  \n",
       "   1   0 1 1  \n",
       "   Sum 2 2 4  "
      ]
     },
     "metadata": {},
     "output_type": "display_data"
    },
    {
     "data": {
      "text/html": [
       "75"
      ],
      "text/latex": [
       "75"
      ],
      "text/markdown": [
       "75"
      ],
      "text/plain": [
       "[1] 75"
      ]
     },
     "metadata": {},
     "output_type": "display_data"
    }
   ],
   "source": [
    "# Finding accuracy of the model\n",
    "log_acc <- addmargins(table(actual, predicted)); log_acc\n",
    "# Adding starting 2 Values of parent diagonal {2 + 1}, dividing by total value {4} \n",
    "((log_acc[1] + log_acc[5])/log_acc[9]) * 100"
   ]
  },
  {
   "cell_type": "markdown",
   "metadata": {},
   "source": [
    "# Multinomial Logistic Regression"
   ]
  },
  {
   "cell_type": "code",
   "execution_count": 10,
   "metadata": {},
   "outputs": [
    {
     "data": {
      "text/html": [
       "<table>\n",
       "<thead><tr><th scope=col>budget</th><th scope=col>cars</th></tr></thead>\n",
       "<tbody>\n",
       "\t<tr><td> 100000</td><td>Toyota </td></tr>\n",
       "\t<tr><td> 250000</td><td>Toyota </td></tr>\n",
       "\t<tr><td> 500000</td><td>Toyota </td></tr>\n",
       "\t<tr><td> 750000</td><td>Toyota </td></tr>\n",
       "\t<tr><td>1000000</td><td>Toyota </td></tr>\n",
       "\t<tr><td>2000000</td><td>Ferrari</td></tr>\n",
       "</tbody>\n",
       "</table>\n"
      ],
      "text/latex": [
       "\\begin{tabular}{r|ll}\n",
       " budget & cars\\\\\n",
       "\\hline\n",
       "\t  100000 & Toyota \\\\\n",
       "\t  250000 & Toyota \\\\\n",
       "\t  500000 & Toyota \\\\\n",
       "\t  750000 & Toyota \\\\\n",
       "\t 1000000 & Toyota \\\\\n",
       "\t 2000000 & Ferrari\\\\\n",
       "\\end{tabular}\n"
      ],
      "text/markdown": [
       "\n",
       "budget | cars | \n",
       "|---|---|---|---|---|---|\n",
       "|  100000 | Toyota  | \n",
       "|  250000 | Toyota  | \n",
       "|  500000 | Toyota  | \n",
       "|  750000 | Toyota  | \n",
       "| 1000000 | Toyota  | \n",
       "| 2000000 | Ferrari | \n",
       "\n",
       "\n"
      ],
      "text/plain": [
       "  budget  cars   \n",
       "1  100000 Toyota \n",
       "2  250000 Toyota \n",
       "3  500000 Toyota \n",
       "4  750000 Toyota \n",
       "5 1000000 Toyota \n",
       "6 2000000 Ferrari"
      ]
     },
     "metadata": {},
     "output_type": "display_data"
    },
    {
     "data": {
      "text/html": [
       "<ol class=list-inline>\n",
       "\t<li>'Bugatti'</li>\n",
       "\t<li>'Ferrari'</li>\n",
       "\t<li>'Toyota'</li>\n",
       "</ol>\n"
      ],
      "text/latex": [
       "\\begin{enumerate*}\n",
       "\\item 'Bugatti'\n",
       "\\item 'Ferrari'\n",
       "\\item 'Toyota'\n",
       "\\end{enumerate*}\n"
      ],
      "text/markdown": [
       "1. 'Bugatti'\n",
       "2. 'Ferrari'\n",
       "3. 'Toyota'\n",
       "\n",
       "\n"
      ],
      "text/plain": [
       "[1] \"Bugatti\" \"Ferrari\" \"Toyota\" "
      ]
     },
     "metadata": {},
     "output_type": "display_data"
    }
   ],
   "source": [
    "log_reg_mul <- read.csv(\"../../datasets/log_reg_mul.csv\")\n",
    "head(log_reg_mul)\n",
    "levels(log_reg_mul$cars)"
   ]
  },
  {
   "cell_type": "code",
   "execution_count": 11,
   "metadata": {},
   "outputs": [
    {
     "data": {
      "text/html": [
       "<table>\n",
       "<thead><tr><th scope=col>budget</th><th scope=col>cars</th><th scope=col>ref</th></tr></thead>\n",
       "<tbody>\n",
       "\t<tr><td> 100000</td><td>Toyota </td><td>Toyota </td></tr>\n",
       "\t<tr><td> 250000</td><td>Toyota </td><td>Toyota </td></tr>\n",
       "\t<tr><td> 500000</td><td>Toyota </td><td>Toyota </td></tr>\n",
       "\t<tr><td> 750000</td><td>Toyota </td><td>Toyota </td></tr>\n",
       "\t<tr><td>1000000</td><td>Toyota </td><td>Toyota </td></tr>\n",
       "\t<tr><td>2000000</td><td>Ferrari</td><td>Ferrari</td></tr>\n",
       "</tbody>\n",
       "</table>\n"
      ],
      "text/latex": [
       "\\begin{tabular}{r|lll}\n",
       " budget & cars & ref\\\\\n",
       "\\hline\n",
       "\t  100000 & Toyota  & Toyota \\\\\n",
       "\t  250000 & Toyota  & Toyota \\\\\n",
       "\t  500000 & Toyota  & Toyota \\\\\n",
       "\t  750000 & Toyota  & Toyota \\\\\n",
       "\t 1000000 & Toyota  & Toyota \\\\\n",
       "\t 2000000 & Ferrari & Ferrari\\\\\n",
       "\\end{tabular}\n"
      ],
      "text/markdown": [
       "\n",
       "budget | cars | ref | \n",
       "|---|---|---|---|---|---|\n",
       "|  100000 | Toyota  | Toyota  | \n",
       "|  250000 | Toyota  | Toyota  | \n",
       "|  500000 | Toyota  | Toyota  | \n",
       "|  750000 | Toyota  | Toyota  | \n",
       "| 1000000 | Toyota  | Toyota  | \n",
       "| 2000000 | Ferrari | Ferrari | \n",
       "\n",
       "\n"
      ],
      "text/plain": [
       "  budget  cars    ref    \n",
       "1  100000 Toyota  Toyota \n",
       "2  250000 Toyota  Toyota \n",
       "3  500000 Toyota  Toyota \n",
       "4  750000 Toyota  Toyota \n",
       "5 1000000 Toyota  Toyota \n",
       "6 2000000 Ferrari Ferrari"
      ]
     },
     "metadata": {},
     "output_type": "display_data"
    }
   ],
   "source": [
    "# setting reference category -> \"Ferrari\"\n",
    "log_reg_mul$ref <- relevel(log_reg_mul$cars, ref = \"Ferrari\")\n",
    "head(log_reg_mul)"
   ]
  },
  {
   "cell_type": "code",
   "execution_count": 12,
   "metadata": {},
   "outputs": [],
   "source": [
    "# Making train and test data\n",
    "set.seed(41)\n",
    "ind <- sample(x = nrow(log_reg_mul), size = floor(0.70 * nrow(log_reg_mul)))\n",
    "\n",
    "log_mul_train <- log_reg_mul[ind,-2]      # excluding \"cars\" column\n",
    "log_mul_test <- log_reg_mul[-ind,-2]      # excluding \"cars\" column"
   ]
  },
  {
   "cell_type": "code",
   "execution_count": 13,
   "metadata": {},
   "outputs": [
    {
     "name": "stdout",
     "output_type": "stream",
     "text": [
      "# weights:  9 (4 variable)\n",
      "initial  value 10.986123 \n",
      "iter  10 value 0.473473\n",
      "iter  20 value 0.042648\n",
      "iter  30 value 0.018414\n",
      "iter  40 value 0.010653\n",
      "iter  50 value 0.008845\n",
      "iter  60 value 0.008080\n",
      "iter  70 value 0.007073\n",
      "iter  70 value 0.007073\n",
      "final  value 0.007073 \n",
      "converged\n"
     ]
    },
    {
     "data": {
      "text/plain": [
       "Call:\n",
       "multinom(formula = ref ~ ., data = log_mul_train)\n",
       "\n",
       "Coefficients:\n",
       "        (Intercept)        budget\n",
       "Bugatti   -25.66995  3.595444e-06\n",
       "Toyota     20.08826 -1.361525e-05\n",
       "\n",
       "Residual Deviance: 0.01414667 \n",
       "AIC: 8.014147 "
      ]
     },
     "metadata": {},
     "output_type": "display_data"
    }
   ],
   "source": [
    "# building logistic multinomial model\n",
    "library(nnet)\n",
    "log_mul_model <- multinom(ref~., data = log_mul_train)\n",
    "log_mul_model"
   ]
  },
  {
   "cell_type": "code",
   "execution_count": 14,
   "metadata": {},
   "outputs": [
    {
     "data": {
      "text/html": [
       "<table>\n",
       "<thead><tr><th></th><th scope=col>Ferrari</th><th scope=col>Bugatti</th><th scope=col>Toyota</th></tr></thead>\n",
       "<tbody>\n",
       "\t<tr><th scope=row>1</th><td>7.363455e-09 </td><td>7.497389e-20 </td><td> 1.000000e+00</td></tr>\n",
       "\t<tr><th scope=row>3</th><td>1.707230e-06 </td><td>7.323405e-17 </td><td> 9.999983e-01</td></tr>\n",
       "\t<tr><th scope=row>7</th><td>9.999998e-01 </td><td>1.168638e-07 </td><td> 5.741764e-08</td></tr>\n",
       "\t<tr><th scope=row>12</th><td>4.568020e-07 </td><td>9.999995e-01 </td><td> 1.438915e-64</td></tr>\n",
       "\t<tr><th scope=row>15</th><td>8.292626e-21 </td><td>1.000000e+00 </td><td>2.411861e-130</td></tr>\n",
       "</tbody>\n",
       "</table>\n"
      ],
      "text/latex": [
       "\\begin{tabular}{r|lll}\n",
       "  & Ferrari & Bugatti & Toyota\\\\\n",
       "\\hline\n",
       "\t1 & 7.363455e-09  & 7.497389e-20  &  1.000000e+00\\\\\n",
       "\t3 & 1.707230e-06  & 7.323405e-17  &  9.999983e-01\\\\\n",
       "\t7 & 9.999998e-01  & 1.168638e-07  &  5.741764e-08\\\\\n",
       "\t12 & 4.568020e-07  & 9.999995e-01  &  1.438915e-64\\\\\n",
       "\t15 & 8.292626e-21  & 1.000000e+00  & 2.411861e-130\\\\\n",
       "\\end{tabular}\n"
      ],
      "text/markdown": [
       "\n",
       "| <!--/--> | Ferrari | Bugatti | Toyota | \n",
       "|---|---|---|---|---|\n",
       "| 1 | 7.363455e-09  | 7.497389e-20  |  1.000000e+00 | \n",
       "| 3 | 1.707230e-06  | 7.323405e-17  |  9.999983e-01 | \n",
       "| 7 | 9.999998e-01  | 1.168638e-07  |  5.741764e-08 | \n",
       "| 12 | 4.568020e-07  | 9.999995e-01  |  1.438915e-64 | \n",
       "| 15 | 8.292626e-21  | 1.000000e+00  | 2.411861e-130 | \n",
       "\n",
       "\n"
      ],
      "text/plain": [
       "   Ferrari      Bugatti      Toyota       \n",
       "1  7.363455e-09 7.497389e-20  1.000000e+00\n",
       "3  1.707230e-06 7.323405e-17  9.999983e-01\n",
       "7  9.999998e-01 1.168638e-07  5.741764e-08\n",
       "12 4.568020e-07 9.999995e-01  1.438915e-64\n",
       "15 8.292626e-21 1.000000e+00 2.411861e-130"
      ]
     },
     "metadata": {},
     "output_type": "display_data"
    }
   ],
   "source": [
    "# predicting probabilities using model and test data\n",
    "log_mul_pred <- predict(log_mul_model, log_mul_test, type = \"prob\"); log_mul_pred"
   ]
  },
  {
   "cell_type": "code",
   "execution_count": 15,
   "metadata": {},
   "outputs": [
    {
     "data": {
      "text/html": [
       "<dl class=dl-horizontal>\n",
       "\t<dt>1</dt>\n",
       "\t\t<dd>1</dd>\n",
       "\t<dt>3</dt>\n",
       "\t\t<dd>1</dd>\n",
       "\t<dt>7</dt>\n",
       "\t\t<dd>1</dd>\n",
       "\t<dt>12</dt>\n",
       "\t\t<dd>1</dd>\n",
       "\t<dt>15</dt>\n",
       "\t\t<dd>1</dd>\n",
       "</dl>\n"
      ],
      "text/latex": [
       "\\begin{description*}\n",
       "\\item[1] 1\n",
       "\\item[3] 1\n",
       "\\item[7] 1\n",
       "\\item[12] 1\n",
       "\\item[15] 1\n",
       "\\end{description*}\n"
      ],
      "text/markdown": [
       "1\n",
       ":   13\n",
       ":   17\n",
       ":   112\n",
       ":   115\n",
       ":   1\n",
       "\n"
      ],
      "text/plain": [
       " 1  3  7 12 15 \n",
       " 1  1  1  1  1 "
      ]
     },
     "metadata": {},
     "output_type": "display_data"
    }
   ],
   "source": [
    "# verifying if all 3 probabilities in a row sum to 1\n",
    "apply(log_mul_pred, 1, sum)"
   ]
  },
  {
   "cell_type": "code",
   "execution_count": 16,
   "metadata": {},
   "outputs": [
    {
     "data": {
      "text/html": [
       "<ol class=list-inline>\n",
       "\t<li>Toyota</li>\n",
       "\t<li>Toyota</li>\n",
       "\t<li>Ferrari</li>\n",
       "\t<li>Bugatti</li>\n",
       "\t<li>Bugatti</li>\n",
       "</ol>\n",
       "\n",
       "<details>\n",
       "\t<summary style=display:list-item;cursor:pointer>\n",
       "\t\t<strong>Levels</strong>:\n",
       "\t</summary>\n",
       "\t<ol class=list-inline>\n",
       "\t\t<li>'Ferrari'</li>\n",
       "\t\t<li>'Bugatti'</li>\n",
       "\t\t<li>'Toyota'</li>\n",
       "\t</ol>\n",
       "</details>"
      ],
      "text/latex": [
       "\\begin{enumerate*}\n",
       "\\item Toyota\n",
       "\\item Toyota\n",
       "\\item Ferrari\n",
       "\\item Bugatti\n",
       "\\item Bugatti\n",
       "\\end{enumerate*}\n",
       "\n",
       "\\emph{Levels}: \\begin{enumerate*}\n",
       "\\item 'Ferrari'\n",
       "\\item 'Bugatti'\n",
       "\\item 'Toyota'\n",
       "\\end{enumerate*}\n"
      ],
      "text/markdown": [
       "1. Toyota\n",
       "2. Toyota\n",
       "3. Ferrari\n",
       "4. Bugatti\n",
       "5. Bugatti\n",
       "\n",
       "\n",
       "\n",
       "**Levels**: 1. 'Ferrari'\n",
       "2. 'Bugatti'\n",
       "3. 'Toyota'\n",
       "\n",
       "\n"
      ],
      "text/plain": [
       "[1] Toyota  Toyota  Ferrari Bugatti Bugatti\n",
       "Levels: Ferrari Bugatti Toyota"
      ]
     },
     "metadata": {},
     "output_type": "display_data"
    }
   ],
   "source": [
    "# classifying categories based on the probability\n",
    "log_mul_class <- predict(log_mul_model, log_mul_test, type = \"class\"); log_mul_class"
   ]
  },
  {
   "cell_type": "code",
   "execution_count": 17,
   "metadata": {},
   "outputs": [
    {
     "data": {
      "text/html": [
       "<table>\n",
       "<thead><tr><th scope=col>Actual</th><th scope=col>Predicted</th></tr></thead>\n",
       "<tbody>\n",
       "\t<tr><td>Toyota </td><td>Toyota </td></tr>\n",
       "\t<tr><td>Toyota </td><td>Toyota </td></tr>\n",
       "\t<tr><td>Ferrari</td><td>Ferrari</td></tr>\n",
       "\t<tr><td>Bugatti</td><td>Bugatti</td></tr>\n",
       "\t<tr><td>Bugatti</td><td>Bugatti</td></tr>\n",
       "</tbody>\n",
       "</table>\n"
      ],
      "text/latex": [
       "\\begin{tabular}{r|ll}\n",
       " Actual & Predicted\\\\\n",
       "\\hline\n",
       "\t Toyota  & Toyota \\\\\n",
       "\t Toyota  & Toyota \\\\\n",
       "\t Ferrari & Ferrari\\\\\n",
       "\t Bugatti & Bugatti\\\\\n",
       "\t Bugatti & Bugatti\\\\\n",
       "\\end{tabular}\n"
      ],
      "text/markdown": [
       "\n",
       "Actual | Predicted | \n",
       "|---|---|---|---|---|\n",
       "| Toyota  | Toyota  | \n",
       "| Toyota  | Toyota  | \n",
       "| Ferrari | Ferrari | \n",
       "| Bugatti | Bugatti | \n",
       "| Bugatti | Bugatti | \n",
       "\n",
       "\n"
      ],
      "text/plain": [
       "  Actual  Predicted\n",
       "1 Toyota  Toyota   \n",
       "2 Toyota  Toyota   \n",
       "3 Ferrari Ferrari  \n",
       "4 Bugatti Bugatti  \n",
       "5 Bugatti Bugatti  "
      ]
     },
     "metadata": {},
     "output_type": "display_data"
    }
   ],
   "source": [
    "# Comparing predicted output with actual value\n",
    "cmp_df <- data.frame(log_mul_test$ref, log_mul_class)\n",
    "colnames(cmp_df) <- c(\"Actual\",\"Predicted\"); cmp_df"
   ]
  },
  {
   "cell_type": "code",
   "execution_count": 18,
   "metadata": {},
   "outputs": [
    {
     "data": {
      "text/html": [
       "<table>\n",
       "<thead><tr><th></th><th scope=col>Ferrari</th><th scope=col>Bugatti</th><th scope=col>Toyota</th><th scope=col>Sum</th></tr></thead>\n",
       "<tbody>\n",
       "\t<tr><th scope=row>Ferrari</th><td>1</td><td>0</td><td>0</td><td>1</td></tr>\n",
       "\t<tr><th scope=row>Bugatti</th><td>0</td><td>2</td><td>0</td><td>2</td></tr>\n",
       "\t<tr><th scope=row>Toyota</th><td>0</td><td>0</td><td>2</td><td>2</td></tr>\n",
       "\t<tr><th scope=row>Sum</th><td>1</td><td>2</td><td>2</td><td>5</td></tr>\n",
       "</tbody>\n",
       "</table>\n"
      ],
      "text/latex": [
       "\\begin{tabular}{r|llll}\n",
       "  & Ferrari & Bugatti & Toyota & Sum\\\\\n",
       "\\hline\n",
       "\tFerrari & 1 & 0 & 0 & 1\\\\\n",
       "\tBugatti & 0 & 2 & 0 & 2\\\\\n",
       "\tToyota & 0 & 0 & 2 & 2\\\\\n",
       "\tSum & 1 & 2 & 2 & 5\\\\\n",
       "\\end{tabular}\n"
      ],
      "text/markdown": [
       "\n",
       "| <!--/--> | Ferrari | Bugatti | Toyota | Sum | \n",
       "|---|---|---|---|\n",
       "| Ferrari | 1 | 0 | 0 | 1 | \n",
       "| Bugatti | 0 | 2 | 0 | 2 | \n",
       "| Toyota | 0 | 0 | 2 | 2 | \n",
       "| Sum | 1 | 2 | 2 | 5 | \n",
       "\n",
       "\n"
      ],
      "text/plain": [
       "         Predicted\n",
       "Actual    Ferrari Bugatti Toyota Sum\n",
       "  Ferrari 1       0       0      1  \n",
       "  Bugatti 0       2       0      2  \n",
       "  Toyota  0       0       2      2  \n",
       "  Sum     1       2       2      5  "
      ]
     },
     "metadata": {},
     "output_type": "display_data"
    },
    {
     "data": {
      "text/html": [
       "100"
      ],
      "text/latex": [
       "100"
      ],
      "text/markdown": [
       "100"
      ],
      "text/plain": [
       "[1] 100"
      ]
     },
     "metadata": {},
     "output_type": "display_data"
    }
   ],
   "source": [
    "# Finding accuracy of the model\n",
    "log_mul_acc <- addmargins(table(cmp_df)); log_mul_acc\n",
    "\n",
    "((log_mul_acc[1] + log_mul_acc[6] + log_mul_acc[11])/log_mul_acc[16]) * 100\n",
    "# 100% accuracy"
   ]
  },
  {
   "cell_type": "code",
   "execution_count": null,
   "metadata": {},
   "outputs": [],
   "source": []
  },
  {
   "cell_type": "code",
   "execution_count": null,
   "metadata": {},
   "outputs": [],
   "source": []
  }
 ],
 "metadata": {
  "kernelspec": {
   "display_name": "R",
   "language": "R",
   "name": "ir"
  },
  "language_info": {
   "codemirror_mode": "r",
   "file_extension": ".r",
   "mimetype": "text/x-r-source",
   "name": "R",
   "pygments_lexer": "r",
   "version": "3.4.4"
  }
 },
 "nbformat": 4,
 "nbformat_minor": 2
}
