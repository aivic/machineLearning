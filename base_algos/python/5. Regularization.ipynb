{
 "cells": [
  {
   "cell_type": "code",
   "execution_count": 1,
   "metadata": {},
   "outputs": [],
   "source": [
    "import numpy as np\n",
    "import scipy as sp\n",
    "import pandas as pd\n",
    "import matplotlib.pyplot as plt\n",
    "%matplotlib inline\n",
    "import seaborn as sns\n",
    "sns.set(style = \"whitegrid\")\n",
    "import sklearn\n",
    "from sklearn.linear_model import LinearRegression, RidgeCV, LassoCV\n",
    "import warnings\n",
    "warnings.filterwarnings('ignore')"
   ]
  },
  {
   "cell_type": "code",
   "execution_count": 2,
   "metadata": {},
   "outputs": [
    {
     "data": {
      "text/html": [
       "<div>\n",
       "<style>\n",
       "    .dataframe thead tr:only-child th {\n",
       "        text-align: right;\n",
       "    }\n",
       "\n",
       "    .dataframe thead th {\n",
       "        text-align: left;\n",
       "    }\n",
       "\n",
       "    .dataframe tbody tr th {\n",
       "        vertical-align: top;\n",
       "    }\n",
       "</style>\n",
       "<table border=\"1\" class=\"dataframe\">\n",
       "  <thead>\n",
       "    <tr style=\"text-align: right;\">\n",
       "      <th></th>\n",
       "      <th>Size</th>\n",
       "      <th>Price</th>\n",
       "    </tr>\n",
       "  </thead>\n",
       "  <tbody>\n",
       "    <tr>\n",
       "      <th>0</th>\n",
       "      <td>1700</td>\n",
       "      <td>286500</td>\n",
       "    </tr>\n",
       "    <tr>\n",
       "      <th>1</th>\n",
       "      <td>1701</td>\n",
       "      <td>549000</td>\n",
       "    </tr>\n",
       "    <tr>\n",
       "      <th>2</th>\n",
       "      <td>1662</td>\n",
       "      <td>249000</td>\n",
       "    </tr>\n",
       "    <tr>\n",
       "      <th>3</th>\n",
       "      <td>1852</td>\n",
       "      <td>550000</td>\n",
       "    </tr>\n",
       "    <tr>\n",
       "      <th>4</th>\n",
       "      <td>1320</td>\n",
       "      <td>170000</td>\n",
       "    </tr>\n",
       "  </tbody>\n",
       "</table>\n",
       "</div>"
      ],
      "text/plain": [
       "   Size   Price\n",
       "0  1700  286500\n",
       "1  1701  549000\n",
       "2  1662  249000\n",
       "3  1852  550000\n",
       "4  1320  170000"
      ]
     },
     "execution_count": 2,
     "metadata": {},
     "output_type": "execute_result"
    }
   ],
   "source": [
    "df_train = pd.read_csv(\"../../datasets/ridge_train.csv\")\n",
    "df_test = pd.read_csv(\"../../datasets/ridge_test.csv\")\n",
    "df_train.head()"
   ]
  },
  {
   "cell_type": "code",
   "execution_count": 3,
   "metadata": {},
   "outputs": [],
   "source": [
    "from sklearn.preprocessing import PolynomialFeatures\n",
    "poly10_train = PolynomialFeatures(10).fit_transform(df_train.Size.reshape(-1,1)) # Order 10\n",
    "poly10_test = PolynomialFeatures(10).fit_transform(df_test.Size.reshape(-1,1)) # Order 10"
   ]
  },
  {
   "cell_type": "markdown",
   "metadata": {},
   "source": [
    "## Linear regression of order 10"
   ]
  },
  {
   "cell_type": "code",
   "execution_count": 4,
   "metadata": {},
   "outputs": [
    {
     "data": {
      "text/plain": [
       "LinearRegression(copy_X=True, fit_intercept=True, n_jobs=1, normalize=False)"
      ]
     },
     "execution_count": 4,
     "metadata": {},
     "output_type": "execute_result"
    }
   ],
   "source": [
    "model = LinearRegression()\n",
    "model.fit(poly10_train, df_train.Price.values.reshape(-1,1))"
   ]
  },
  {
   "cell_type": "code",
   "execution_count": 5,
   "metadata": {},
   "outputs": [
    {
     "name": "stdout",
     "output_type": "stream",
     "text": [
      "Train RMSE:  198809.30767327943\n",
      "Test RMSE:  4871998.393355155\n"
     ]
    }
   ],
   "source": [
    "est_train = model.predict(poly10_train)\n",
    "print(\"Train RMSE: \", np.sqrt(sklearn.metrics.mean_squared_error(df_train.Price.values.reshape(-1,1), est_train)))\n",
    "est_test = model.predict(poly10_test)\n",
    "print(\"Test RMSE: \", np.sqrt(sklearn.metrics.mean_squared_error(df_test.Price.values.reshape(-1,1), est_test)))"
   ]
  },
  {
   "cell_type": "markdown",
   "metadata": {},
   "source": [
    "## Ridge regression model using inbuilt Cross-Validation"
   ]
  },
  {
   "cell_type": "code",
   "execution_count": 6,
   "metadata": {},
   "outputs": [
    {
     "data": {
      "text/plain": [
       "RidgeCV(alphas=[0.1, 0.5, 0.8, 1, 5, 10, 15], cv=40, fit_intercept=True,\n",
       "    gcv_mode=None, normalize=False, scoring=None, store_cv_values=False)"
      ]
     },
     "execution_count": 6,
     "metadata": {},
     "output_type": "execute_result"
    }
   ],
   "source": [
    "ridge_model = RidgeCV(alphas=[.1, .5, .8,1,5,10,15], cv = 40)\n",
    "ridge_model.fit(poly10_train, df_train.Price.values.reshape(-1,1))"
   ]
  },
  {
   "cell_type": "code",
   "execution_count": 7,
   "metadata": {},
   "outputs": [
    {
     "name": "stdout",
     "output_type": "stream",
     "text": [
      "Train RMSE:  193464.93902846103\n",
      "Test RMSE:  88624931.7077602\n"
     ]
    }
   ],
   "source": [
    "est_train = ridge_model.predict(poly10_train)\n",
    "print(\"Train RMSE: \", np.sqrt(sklearn.metrics.mean_squared_error(df_train.Price.values.reshape(-1,1), est_train)))\n",
    "est_test = ridge_model.predict(poly10_test)\n",
    "print(\"Test RMSE: \", np.sqrt(sklearn.metrics.mean_squared_error(df_test.Price.values.reshape(-1,1), est_test)))"
   ]
  },
  {
   "cell_type": "code",
   "execution_count": 8,
   "metadata": {},
   "outputs": [
    {
     "data": {
      "text/plain": [
       "array([[ 0.00000000e+00, -1.73251660e+05,  3.03255245e+02,\n",
       "        -2.24213720e-01, -3.75671789e-06,  1.33635973e-07,\n",
       "        -1.08393158e-10,  4.36953148e-14, -9.91045419e-18,\n",
       "         1.20609123e-21, -6.13463185e-26]])"
      ]
     },
     "execution_count": 8,
     "metadata": {},
     "output_type": "execute_result"
    }
   ],
   "source": [
    "ridge_model.coef_"
   ]
  },
  {
   "cell_type": "markdown",
   "metadata": {},
   "source": [
    "## Lasso regression model using inbuilt Cross-Validation"
   ]
  },
  {
   "cell_type": "code",
   "execution_count": 9,
   "metadata": {},
   "outputs": [
    {
     "data": {
      "text/plain": [
       "LassoCV(alphas=[0.1, 0.5, 1.0], copy_X=True, cv=40, eps=0.001,\n",
       "    fit_intercept=True, max_iter=1000, n_alphas=100, n_jobs=1,\n",
       "    normalize=False, positive=False, precompute='auto', random_state=None,\n",
       "    selection='cyclic', tol=0.0001, verbose=False)"
      ]
     },
     "execution_count": 9,
     "metadata": {},
     "output_type": "execute_result"
    }
   ],
   "source": [
    "lasso_model = LassoCV(alphas=[0.1, 0.5, 1.0], cv = 40)\n",
    "lasso_model.fit(poly10_train, df_train.Price.values.reshape(-1,1))"
   ]
  },
  {
   "cell_type": "code",
   "execution_count": 10,
   "metadata": {},
   "outputs": [
    {
     "name": "stdout",
     "output_type": "stream",
     "text": [
      "Train RMSE:  201384.1901629178\n",
      "Test RMSE:  472252.73017639277\n"
     ]
    }
   ],
   "source": [
    "est_train = lasso_model.predict(poly10_train)\n",
    "print(\"Train RMSE: \", np.sqrt(sklearn.metrics.mean_squared_error(df_train.Price.values.reshape(-1,1), est_train)))\n",
    "est_test = lasso_model.predict(poly10_test)\n",
    "print(\"Test RMSE: \", np.sqrt(sklearn.metrics.mean_squared_error(df_test.Price.values.reshape(-1,1), est_test)))"
   ]
  },
  {
   "cell_type": "code",
   "execution_count": 11,
   "metadata": {},
   "outputs": [
    {
     "data": {
      "text/plain": [
       "array([ 0.00000000e+00,  3.63811838e+02,  1.43414982e-02, -1.68379435e-05,\n",
       "       -1.77835066e-09,  2.44067785e-13,  1.16641042e-16,  2.30124264e-20,\n",
       "        2.66308275e-24, -1.95913516e-29, -1.17765553e-31])"
      ]
     },
     "execution_count": 11,
     "metadata": {},
     "output_type": "execute_result"
    }
   ],
   "source": [
    "lasso_model.coef_"
   ]
  },
  {
   "cell_type": "code",
   "execution_count": 12,
   "metadata": {},
   "outputs": [],
   "source": [
    "# one of the coef is zero and Train/Test RMSE are lesser than the other two (Linear/Ridge)"
   ]
  }
 ],
 "metadata": {
  "kernelspec": {
   "display_name": "Python 3",
   "language": "python",
   "name": "python3"
  },
  "language_info": {
   "codemirror_mode": {
    "name": "ipython",
    "version": 3
   },
   "file_extension": ".py",
   "mimetype": "text/x-python",
   "name": "python",
   "nbconvert_exporter": "python",
   "pygments_lexer": "ipython3",
   "version": "3.6.1"
  }
 },
 "nbformat": 4,
 "nbformat_minor": 2
}
